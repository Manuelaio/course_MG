{
  "nbformat": 4,
  "nbformat_minor": 0,
  "metadata": {
    "colab": {
      "name": "Untitled3.ipynb",
      "provenance": [],
      "include_colab_link": true
    },
    "kernelspec": {
      "name": "ir",
      "display_name": "R"
    },
    "language_info": {
      "name": "R"
    }
  },
  "cells": [
    {
      "cell_type": "markdown",
      "metadata": {
        "id": "view-in-github",
        "colab_type": "text"
      },
      "source": [
        "<a href=\"https://colab.research.google.com/github/Manuelaio/course_MG/blob/main/SVs_WGS-WES.ipynb\" target=\"_parent\"><img src=\"https://colab.research.google.com/assets/colab-badge.svg\" alt=\"Open In Colab\"/></a>"
      ]
    },
    {
      "cell_type": "markdown",
      "metadata": {
        "id": "Ryf8OrrFKtDn"
      },
      "source": [
        "\n",
        "\n",
        ">**Structural Variants analysis**\n",
        "\n",
        "Manta caller \n",
        "\n"
      ]
    },
    {
      "cell_type": "code",
      "metadata": {
        "colab": {
          "base_uri": "https://localhost:8080/",
          "height": 271
        },
        "id": "a1kskCp876UQ",
        "outputId": "e760311c-008d-4bf0-d84f-c998e173dbb5"
      },
      "source": [
        "Manta= read.table(\"/content/Manta_ex_DGV.bed\", stringsAsFactors = F, header=T)\n",
        "head(Manta)"
      ],
      "execution_count": 6,
      "outputs": [
        {
          "output_type": "display_data",
          "data": {
            "text/plain": [
              "  chrom start   end     type len genotype chrom_TS start_TS end_TS  type_TS\n",
              "1 chr1   839442  839499 DEL   57 0/1      chr1      837019   857280 INS    \n",
              "2 chr1   934064  934904 DEL  840 1/1      chr1      933981   934728 DEL    \n",
              "3 chr1   934064  934904 DEL  840 1/1      chr1      882968  5666143 DEL    \n",
              "4 chr1  1666974 1667141 DEL  167 1/1      chr1     1666983  1667152 DEL    \n",
              "5 chr1  1666974 1667141 DEL  167 1/1      chr1     1653303  1716238 DEL    \n",
              "6 chr1  1666974 1667141 DEL  167 1/1      chr1      882968  5666143 DEL    \n",
              "  source               len_TS  overlap\n",
              "1 DGV                  20261    57    \n",
              "2 LONG_READ            747     664    \n",
              "3 LONG_READ            4783175 840    \n",
              "4 LONG_READ,SVCLASSIFY 169     158    \n",
              "5 LONG_READ            62935   167    \n",
              "6 LONG_READ            4783175 167    "
            ],
            "text/latex": "A data.frame: 6 × 13\n\\begin{tabular}{r|lllllllllllll}\n  & chrom & start & end & type & len & genotype & chrom\\_TS & start\\_TS & end\\_TS & type\\_TS & source & len\\_TS & overlap\\\\\n  & <chr> & <int> & <int> & <chr> & <int> & <chr> & <chr> & <int> & <int> & <chr> & <chr> & <chr> & <int>\\\\\n\\hline\n\t1 & chr1 &  839442 &  839499 & DEL &  57 & 0/1 & chr1 &  837019 &  857280 & INS & DGV                  & 20261   &  57\\\\\n\t2 & chr1 &  934064 &  934904 & DEL & 840 & 1/1 & chr1 &  933981 &  934728 & DEL & LONG\\_READ            & 747     & 664\\\\\n\t3 & chr1 &  934064 &  934904 & DEL & 840 & 1/1 & chr1 &  882968 & 5666143 & DEL & LONG\\_READ            & 4783175 & 840\\\\\n\t4 & chr1 & 1666974 & 1667141 & DEL & 167 & 1/1 & chr1 & 1666983 & 1667152 & DEL & LONG\\_READ,SVCLASSIFY & 169     & 158\\\\\n\t5 & chr1 & 1666974 & 1667141 & DEL & 167 & 1/1 & chr1 & 1653303 & 1716238 & DEL & LONG\\_READ            & 62935   & 167\\\\\n\t6 & chr1 & 1666974 & 1667141 & DEL & 167 & 1/1 & chr1 &  882968 & 5666143 & DEL & LONG\\_READ            & 4783175 & 167\\\\\n\\end{tabular}\n",
            "text/markdown": "\nA data.frame: 6 × 13\n\n| <!--/--> | chrom &lt;chr&gt; | start &lt;int&gt; | end &lt;int&gt; | type &lt;chr&gt; | len &lt;int&gt; | genotype &lt;chr&gt; | chrom_TS &lt;chr&gt; | start_TS &lt;int&gt; | end_TS &lt;int&gt; | type_TS &lt;chr&gt; | source &lt;chr&gt; | len_TS &lt;chr&gt; | overlap &lt;int&gt; |\n|---|---|---|---|---|---|---|---|---|---|---|---|---|---|\n| 1 | chr1 |  839442 |  839499 | DEL |  57 | 0/1 | chr1 |  837019 |  857280 | INS | DGV                  | 20261   |  57 |\n| 2 | chr1 |  934064 |  934904 | DEL | 840 | 1/1 | chr1 |  933981 |  934728 | DEL | LONG_READ            | 747     | 664 |\n| 3 | chr1 |  934064 |  934904 | DEL | 840 | 1/1 | chr1 |  882968 | 5666143 | DEL | LONG_READ            | 4783175 | 840 |\n| 4 | chr1 | 1666974 | 1667141 | DEL | 167 | 1/1 | chr1 | 1666983 | 1667152 | DEL | LONG_READ,SVCLASSIFY | 169     | 158 |\n| 5 | chr1 | 1666974 | 1667141 | DEL | 167 | 1/1 | chr1 | 1653303 | 1716238 | DEL | LONG_READ            | 62935   | 167 |\n| 6 | chr1 | 1666974 | 1667141 | DEL | 167 | 1/1 | chr1 |  882968 | 5666143 | DEL | LONG_READ            | 4783175 | 167 |\n\n",
            "text/html": [
              "<table class=\"dataframe\">\n",
              "<caption>A data.frame: 6 × 13</caption>\n",
              "<thead>\n",
              "\t<tr><th></th><th scope=col>chrom</th><th scope=col>start</th><th scope=col>end</th><th scope=col>type</th><th scope=col>len</th><th scope=col>genotype</th><th scope=col>chrom_TS</th><th scope=col>start_TS</th><th scope=col>end_TS</th><th scope=col>type_TS</th><th scope=col>source</th><th scope=col>len_TS</th><th scope=col>overlap</th></tr>\n",
              "\t<tr><th></th><th scope=col>&lt;chr&gt;</th><th scope=col>&lt;int&gt;</th><th scope=col>&lt;int&gt;</th><th scope=col>&lt;chr&gt;</th><th scope=col>&lt;int&gt;</th><th scope=col>&lt;chr&gt;</th><th scope=col>&lt;chr&gt;</th><th scope=col>&lt;int&gt;</th><th scope=col>&lt;int&gt;</th><th scope=col>&lt;chr&gt;</th><th scope=col>&lt;chr&gt;</th><th scope=col>&lt;chr&gt;</th><th scope=col>&lt;int&gt;</th></tr>\n",
              "</thead>\n",
              "<tbody>\n",
              "\t<tr><th scope=row>1</th><td>chr1</td><td> 839442</td><td> 839499</td><td>DEL</td><td> 57</td><td>0/1</td><td>chr1</td><td> 837019</td><td> 857280</td><td>INS</td><td>DGV                 </td><td>20261  </td><td> 57</td></tr>\n",
              "\t<tr><th scope=row>2</th><td>chr1</td><td> 934064</td><td> 934904</td><td>DEL</td><td>840</td><td>1/1</td><td>chr1</td><td> 933981</td><td> 934728</td><td>DEL</td><td>LONG_READ           </td><td>747    </td><td>664</td></tr>\n",
              "\t<tr><th scope=row>3</th><td>chr1</td><td> 934064</td><td> 934904</td><td>DEL</td><td>840</td><td>1/1</td><td>chr1</td><td> 882968</td><td>5666143</td><td>DEL</td><td>LONG_READ           </td><td>4783175</td><td>840</td></tr>\n",
              "\t<tr><th scope=row>4</th><td>chr1</td><td>1666974</td><td>1667141</td><td>DEL</td><td>167</td><td>1/1</td><td>chr1</td><td>1666983</td><td>1667152</td><td>DEL</td><td>LONG_READ,SVCLASSIFY</td><td>169    </td><td>158</td></tr>\n",
              "\t<tr><th scope=row>5</th><td>chr1</td><td>1666974</td><td>1667141</td><td>DEL</td><td>167</td><td>1/1</td><td>chr1</td><td>1653303</td><td>1716238</td><td>DEL</td><td>LONG_READ           </td><td>62935  </td><td>167</td></tr>\n",
              "\t<tr><th scope=row>6</th><td>chr1</td><td>1666974</td><td>1667141</td><td>DEL</td><td>167</td><td>1/1</td><td>chr1</td><td> 882968</td><td>5666143</td><td>DEL</td><td>LONG_READ           </td><td>4783175</td><td>167</td></tr>\n",
              "</tbody>\n",
              "</table>\n"
            ]
          },
          "metadata": {
            "tags": []
          }
        }
      ]
    },
    {
      "cell_type": "code",
      "metadata": {
        "id": "dSYylulu8zn2",
        "outputId": "dac6866f-2b74-41ec-a014-75a9850d1e9f",
        "colab": {
          "base_uri": "https://localhost:8080/",
          "height": 271
        }
      },
      "source": [
        "Exca = read.table(\"/content/Excavator_DGV_LR.bed\", stringsAsFactors = F, header=T)\n",
        "head(Exca)"
      ],
      "execution_count": 1,
      "outputs": [
        {
          "output_type": "display_data",
          "data": {
            "text/plain": [
              "  chrom start     end       type len    genotype chrom_TS start_TS end_TS  \n",
              "1 chr1    1355234   1373911 DEL   18677 1        chr1       882968  5666143\n",
              "2 chr1    6235711   6249420 DEL   13709 1        .              -1       -1\n",
              "3 chr1    6418782   6425128 DEL    6346 1        .              -1       -1\n",
              "4 chr1   63323980  63402358 DEL   78378 1        .              -1       -1\n",
              "5 chr1   72255515  72342726 DEL   87211 0        chr1     72268895 72357704\n",
              "6 chr1  119422835 119614859 DEL  192024 1        .              -1       -1\n",
              "  type_TS source    len_TS  overlap\n",
              "1 DEL     LONG_READ 4783175 18677  \n",
              "2 .       .         .           0  \n",
              "3 .       .         .           0  \n",
              "4 .       .         .           0  \n",
              "5 DEL     DGV       88809   73831  \n",
              "6 .       .         .           0  "
            ],
            "text/latex": "A data.frame: 6 × 13\n\\begin{tabular}{r|lllllllllllll}\n  & chrom & start & end & type & len & genotype & chrom\\_TS & start\\_TS & end\\_TS & type\\_TS & source & len\\_TS & overlap\\\\\n  & <chr> & <int> & <int> & <chr> & <int> & <int> & <chr> & <int> & <int> & <chr> & <chr> & <chr> & <int>\\\\\n\\hline\n\t1 & chr1 &   1355234 &   1373911 & DEL &  18677 & 1 & chr1 &   882968 &  5666143 & DEL & LONG\\_READ & 4783175 & 18677\\\\\n\t2 & chr1 &   6235711 &   6249420 & DEL &  13709 & 1 & .    &       -1 &       -1 & .   & .         & .       &     0\\\\\n\t3 & chr1 &   6418782 &   6425128 & DEL &   6346 & 1 & .    &       -1 &       -1 & .   & .         & .       &     0\\\\\n\t4 & chr1 &  63323980 &  63402358 & DEL &  78378 & 1 & .    &       -1 &       -1 & .   & .         & .       &     0\\\\\n\t5 & chr1 &  72255515 &  72342726 & DEL &  87211 & 0 & chr1 & 72268895 & 72357704 & DEL & DGV       & 88809   & 73831\\\\\n\t6 & chr1 & 119422835 & 119614859 & DEL & 192024 & 1 & .    &       -1 &       -1 & .   & .         & .       &     0\\\\\n\\end{tabular}\n",
            "text/markdown": "\nA data.frame: 6 × 13\n\n| <!--/--> | chrom &lt;chr&gt; | start &lt;int&gt; | end &lt;int&gt; | type &lt;chr&gt; | len &lt;int&gt; | genotype &lt;int&gt; | chrom_TS &lt;chr&gt; | start_TS &lt;int&gt; | end_TS &lt;int&gt; | type_TS &lt;chr&gt; | source &lt;chr&gt; | len_TS &lt;chr&gt; | overlap &lt;int&gt; |\n|---|---|---|---|---|---|---|---|---|---|---|---|---|---|\n| 1 | chr1 |   1355234 |   1373911 | DEL |  18677 | 1 | chr1 |   882968 |  5666143 | DEL | LONG_READ | 4783175 | 18677 |\n| 2 | chr1 |   6235711 |   6249420 | DEL |  13709 | 1 | .    |       -1 |       -1 | .   | .         | .       |     0 |\n| 3 | chr1 |   6418782 |   6425128 | DEL |   6346 | 1 | .    |       -1 |       -1 | .   | .         | .       |     0 |\n| 4 | chr1 |  63323980 |  63402358 | DEL |  78378 | 1 | .    |       -1 |       -1 | .   | .         | .       |     0 |\n| 5 | chr1 |  72255515 |  72342726 | DEL |  87211 | 0 | chr1 | 72268895 | 72357704 | DEL | DGV       | 88809   | 73831 |\n| 6 | chr1 | 119422835 | 119614859 | DEL | 192024 | 1 | .    |       -1 |       -1 | .   | .         | .       |     0 |\n\n",
            "text/html": [
              "<table class=\"dataframe\">\n",
              "<caption>A data.frame: 6 × 13</caption>\n",
              "<thead>\n",
              "\t<tr><th></th><th scope=col>chrom</th><th scope=col>start</th><th scope=col>end</th><th scope=col>type</th><th scope=col>len</th><th scope=col>genotype</th><th scope=col>chrom_TS</th><th scope=col>start_TS</th><th scope=col>end_TS</th><th scope=col>type_TS</th><th scope=col>source</th><th scope=col>len_TS</th><th scope=col>overlap</th></tr>\n",
              "\t<tr><th></th><th scope=col>&lt;chr&gt;</th><th scope=col>&lt;int&gt;</th><th scope=col>&lt;int&gt;</th><th scope=col>&lt;chr&gt;</th><th scope=col>&lt;int&gt;</th><th scope=col>&lt;int&gt;</th><th scope=col>&lt;chr&gt;</th><th scope=col>&lt;int&gt;</th><th scope=col>&lt;int&gt;</th><th scope=col>&lt;chr&gt;</th><th scope=col>&lt;chr&gt;</th><th scope=col>&lt;chr&gt;</th><th scope=col>&lt;int&gt;</th></tr>\n",
              "</thead>\n",
              "<tbody>\n",
              "\t<tr><th scope=row>1</th><td>chr1</td><td>  1355234</td><td>  1373911</td><td>DEL</td><td> 18677</td><td>1</td><td>chr1</td><td>  882968</td><td> 5666143</td><td>DEL</td><td>LONG_READ</td><td>4783175</td><td>18677</td></tr>\n",
              "\t<tr><th scope=row>2</th><td>chr1</td><td>  6235711</td><td>  6249420</td><td>DEL</td><td> 13709</td><td>1</td><td>.   </td><td>      -1</td><td>      -1</td><td>.  </td><td>.        </td><td>.      </td><td>    0</td></tr>\n",
              "\t<tr><th scope=row>3</th><td>chr1</td><td>  6418782</td><td>  6425128</td><td>DEL</td><td>  6346</td><td>1</td><td>.   </td><td>      -1</td><td>      -1</td><td>.  </td><td>.        </td><td>.      </td><td>    0</td></tr>\n",
              "\t<tr><th scope=row>4</th><td>chr1</td><td> 63323980</td><td> 63402358</td><td>DEL</td><td> 78378</td><td>1</td><td>.   </td><td>      -1</td><td>      -1</td><td>.  </td><td>.        </td><td>.      </td><td>    0</td></tr>\n",
              "\t<tr><th scope=row>5</th><td>chr1</td><td> 72255515</td><td> 72342726</td><td>DEL</td><td> 87211</td><td>0</td><td>chr1</td><td>72268895</td><td>72357704</td><td>DEL</td><td>DGV      </td><td>88809  </td><td>73831</td></tr>\n",
              "\t<tr><th scope=row>6</th><td>chr1</td><td>119422835</td><td>119614859</td><td>DEL</td><td>192024</td><td>1</td><td>.   </td><td>      -1</td><td>      -1</td><td>.  </td><td>.        </td><td>.      </td><td>    0</td></tr>\n",
              "</tbody>\n",
              "</table>\n"
            ]
          },
          "metadata": {
            "tags": []
          }
        }
      ]
    },
    {
      "cell_type": "code",
      "metadata": {
        "colab": {
          "base_uri": "https://localhost:8080/",
          "height": 776
        },
        "id": "jnWo4RuS8cR3",
        "outputId": "a571cd96-4790-4539-a53e-6565ff1fb63c"
      },
      "source": [
        "library(dplyr)\n",
        "library(ggplot2)\n",
        "if (!require(\"gridExtra\")) install.packages(\"gridExtra\") \n",
        "library(gridExtra)\n",
        "\n",
        "cat(\"Results for Manta (WGS):\")\n",
        "\n",
        "tab1=Manta %>%\n",
        "  group_by(type) %>% \n",
        "  summarise(n = n()); tab1\n",
        "#mycol=c(\"#C06C84\", \"#6C5B7B\")\n",
        "cat(\"_________________________________\\n\")\n",
        "cat(\"\\n\")\n",
        "cat(\"Results for Excavator2 (WES):\")\n",
        "\n",
        "tab2=Exca %>%\n",
        "  group_by(type) %>% \n",
        "  summarise(n = n()); tab2\n",
        "#mycol=c(\"#C06C84\", \"#6C5B7B\")\n",
        "cat(\"\\n\")\n",
        "a = ggplot(tab1, aes(x=type, y= n)) + geom_col(fill= c(\"#C06C84\", \"#6C5B7B\")) + ylab(\"number of variants\") + ggtitle(\"Manta- WGS:\") + ylim(0,4430)\n",
        "b = ggplot(tab2, aes(x=type, y= n)) + geom_col(fill= c(\"#C06C84\", \"#6C5B7B\")) + ylab(\"number of variants\") + ggtitle(\"EXCAVATOR - WES:\") + ylim(0,4430)\n",
        "\n",
        "grid.arrange(a,b,nrow=1,ncol=2)\n"
      ],
      "execution_count": 33,
      "outputs": [
        {
          "output_type": "stream",
          "text": [
            "Results for Manta (WGS):"
          ],
          "name": "stdout"
        },
        {
          "output_type": "display_data",
          "data": {
            "text/plain": [
              "  type n   \n",
              "1 DEL  4426\n",
              "2 DUP   703"
            ],
            "text/latex": "A tibble: 2 × 2\n\\begin{tabular}{ll}\n type & n\\\\\n <chr> & <int>\\\\\n\\hline\n\t DEL & 4426\\\\\n\t DUP &  703\\\\\n\\end{tabular}\n",
            "text/markdown": "\nA tibble: 2 × 2\n\n| type &lt;chr&gt; | n &lt;int&gt; |\n|---|---|\n| DEL | 4426 |\n| DUP |  703 |\n\n",
            "text/html": [
              "<table class=\"dataframe\">\n",
              "<caption>A tibble: 2 × 2</caption>\n",
              "<thead>\n",
              "\t<tr><th scope=col>type</th><th scope=col>n</th></tr>\n",
              "\t<tr><th scope=col>&lt;chr&gt;</th><th scope=col>&lt;int&gt;</th></tr>\n",
              "</thead>\n",
              "<tbody>\n",
              "\t<tr><td>DEL</td><td>4426</td></tr>\n",
              "\t<tr><td>DUP</td><td> 703</td></tr>\n",
              "</tbody>\n",
              "</table>\n"
            ]
          },
          "metadata": {
            "tags": []
          }
        },
        {
          "output_type": "stream",
          "text": [
            "_________________________________\n",
            "\n",
            "Results for Excavator2 (WES):"
          ],
          "name": "stdout"
        },
        {
          "output_type": "display_data",
          "data": {
            "text/plain": [
              "  type n \n",
              "1 DEL  88\n",
              "2 DUP  27"
            ],
            "text/latex": "A tibble: 2 × 2\n\\begin{tabular}{ll}\n type & n\\\\\n <chr> & <int>\\\\\n\\hline\n\t DEL & 88\\\\\n\t DUP & 27\\\\\n\\end{tabular}\n",
            "text/markdown": "\nA tibble: 2 × 2\n\n| type &lt;chr&gt; | n &lt;int&gt; |\n|---|---|\n| DEL | 88 |\n| DUP | 27 |\n\n",
            "text/html": [
              "<table class=\"dataframe\">\n",
              "<caption>A tibble: 2 × 2</caption>\n",
              "<thead>\n",
              "\t<tr><th scope=col>type</th><th scope=col>n</th></tr>\n",
              "\t<tr><th scope=col>&lt;chr&gt;</th><th scope=col>&lt;int&gt;</th></tr>\n",
              "</thead>\n",
              "<tbody>\n",
              "\t<tr><td>DEL</td><td>88</td></tr>\n",
              "\t<tr><td>DUP</td><td>27</td></tr>\n",
              "</tbody>\n",
              "</table>\n"
            ]
          },
          "metadata": {
            "tags": []
          }
        },
        {
          "output_type": "display_data",
          "data": {
            "image/png": "[encoded data removed]",
            "text/plain": [
              "plot without title"
            ]
          },
          "metadata": {
            "tags": [],
            "image/png": {
              "width": 420,
              "height": 420
            }
          }
        }
      ]
    },
    {
      "cell_type": "code",
      "metadata": {
        "colab": {
          "base_uri": "https://localhost:8080/",
          "height": 84
        },
        "id": "cDoSXKO5LZOc",
        "outputId": "123858be-cc35-42b9-a25b-ba7199befbfa"
      },
      "source": [
        "Manta$evaluation= ifelse(Manta$overlap!=0, \"TRUE_DISCOVERY\",\"FALSE_DISCOVERY\")\n",
        "Manta$overlapLen= with(Manta, ifelse(len >= 10000 , \">10kb\" , ifelse(len < 1000, \"<1kb\", \">1kb\")))\n",
        "table(Manta$evaluation, Manta$type)\n"
      ],
      "execution_count": 21,
      "outputs": [
        {
          "output_type": "display_data",
          "data": {
            "text/plain": [
              "                 \n",
              "                   DEL  DUP\n",
              "  FALSE_DISCOVERY  798  188\n",
              "  TRUE_DISCOVERY  3628  515"
            ]
          },
          "metadata": {
            "tags": []
          }
        }
      ]
    },
    {
      "cell_type": "code",
      "metadata": {
        "colab": {
          "base_uri": "https://localhost:8080/",
          "height": 437
        },
        "id": "mIYcBUTQN40i",
        "outputId": "64bf1120-6677-4ea8-a7f9-2349a6c3283b"
      },
      "source": [
        "tab2= Manta %>%\n",
        "  group_by(type, evaluation, overlapLen, genotype) %>% \n",
        "  summarise(n = n(), .groups =\"drop\")\n",
        "\n",
        "tab2$overlapLen= factor(tab2$overlapLen, levels= c(\"<1kb\",\">1kb\",\">10kb\"))\n",
        "\n",
        "  ggplot(tab2, aes(x=type, y= n,fill= evaluation)) + geom_col() +  facet_grid(.~overlapLen) + ylab(\"number of variants\")"
      ],
      "execution_count": null,
      "outputs": [
        {
          "output_type": "display_data",
          "data": {
            "image/png": "[encoded data removed]",
            "text/plain": [
              "plot without title"
            ]
          },
          "metadata": {
            "tags": [],
            "image/png": {
              "width": 420,
              "height": 420
            }
          }
        }
      ]
    },
    {
      "cell_type": "code",
      "metadata": {
        "colab": {
          "base_uri": "https://localhost:8080/",
          "height": 437
        },
        "id": "qxUalMflRg-i",
        "outputId": "9d6e5cc2-dc41-44c4-f0fc-959421db0de3"
      },
      "source": [
        "ggplot(tab2, aes(x=type, y= n,fill= evaluation)) + geom_col() +  facet_grid(.~genotype) + ylab(\"number of variants\")"
      ],
      "execution_count": null,
      "outputs": [
        {
          "output_type": "display_data",
          "data": {
            "image/png": "[encoded data removed]",
            "text/plain": [
              "plot without title"
            ]
          },
          "metadata": {
            "tags": [],
            "image/png": {
              "width": 420,
              "height": 420
            }
          }
        }
      ]
    },
    {
      "cell_type": "code",
      "metadata": {
        "id": "kFB-jQJvW7am"
      },
      "source": [
        "trueset=read.table(\"/content/NA12878_dgv_long_read_TRUESET.bed\", stringsAsFactors = F)\n"
      ],
      "execution_count": null,
      "outputs": []
    },
    {
      "cell_type": "code",
      "metadata": {
        "colab": {
          "base_uri": "https://localhost:8080/"
        },
        "id": "2IbTKJCSX8UU",
        "outputId": "3ba477da-a4e2-47c3-c6f6-69fb0fb70865"
      },
      "source": [
        "PR_del <- function(data, data2){\n",
        "  file.DEL= subset(data, type==\"DEL\")\n",
        "  intersect.del= file.DEL[file.DEL$overlap!=0,]\n",
        " True.p= intersect.del[which(intersect.del$type==intersect.del$type_TS),]\n",
        " discordanti= intersect.del[which(intersect.del$type!=intersect.del$type_TS),]\n",
        " discordanti.na.omit= na.omit(discordanti)\n",
        " truset.del= subset(data2, V4==\"DEL\")\n",
        " TP= nrow(intersect.del[which(intersect.del$type==intersect.del$type_TS),])\n",
        " FN= (nrow(truset.del)) - TP - (nrow(discordanti.na.omit))\n",
        " FP= sum((nrow(file.DEL[file.DEL$overlap==0,])), (nrow(discordanti.na.omit)))\n",
        " PRECISIONE= ((TP)/(TP+FP))*100\n",
        "\n",
        " RECALL=  ((TP)/(TP+ abs(FN)))*100\n",
        " \n",
        " return(print(paste0(\"Precision:\",PRECISIONE ,\"%\", \"  \", \"Recall:\", RECALL, \"%\", \"  TP:\", TP, \n",
        "                     \"   FN:\",FN, \"    FP:\", FP)))\n",
        "}\n",
        "\n",
        "\n",
        "PR_dup <- function(data, data2){\n",
        "  file.DUP= subset(data, type==\"DUP\")\n",
        "  intersect.dup= file.DUP[file.DUP$overlap!=0,]\n",
        "  True.p=intersect.dup[intersect.dup$type_TS==\"DUP\" | intersect.dup$type_TS==\"INS\",]\n",
        "  discordanti_dup= intersect.dup[intersect.dup$type_TS=='DEL',]\n",
        "  truset.dup= subset(data2, V4==\"DUP\")\n",
        "  TP= nrow(True.p)\n",
        "  FN= (nrow(truset.dup)) - TP - (nrow(discordanti_dup))\n",
        "  FP= sum((nrow(file.DUP[file.DUP$overlap==0,])), (nrow(discordanti_dup)))\n",
        "  PRECISIONE= ((TP)/(TP+FP))*100\n",
        "  RECALL=  ((TP)/(TP+ abs(FN)))*100\n",
        "  return(print(paste0(\"Precision:\",PRECISIONE ,\"%\", \"  \", \"Recall:\", RECALL, \"%\", \"  TP:\", TP, \n",
        "                      \"   FN:\",FN, \"    FP:\", FP, \"  discordanti:\", nrow(discordanti_dup))))\n",
        "  \n",
        "}\n",
        "\n",
        "\n",
        "PR_del(Manta, trueset)\n",
        "PR_dup(Manta, trueset)"
      ],
      "execution_count": null,
      "outputs": [
        {
          "output_type": "stream",
          "text": [
            "[1] \"Precision:76.5024853140533%  Recall:38.4772727272727%  TP:3386   FN:5414    FP:1040\"\n",
            "[1] \"Precision:65.7553956834532%  Recall:18.5621445978879%  TP:457   FN:2005    FP:238  discordanti:50\"\n"
          ],
          "name": "stdout"
        }
      ]
    }
  ]
}