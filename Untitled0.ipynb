{
  "nbformat": 4,
  "nbformat_minor": 0,
  "metadata": {
    "colab": {
      "name": "Untitled0.ipynb",
      "provenance": [],
      "authorship_tag": "ABX9TyO/wg3aemLWsx6dqjq6ELYn",
      "include_colab_link": true
    },
    "kernelspec": {
      "name": "python3",
      "display_name": "Python 3"
    }
  },
  "cells": [
    {
      "cell_type": "markdown",
      "metadata": {
        "id": "view-in-github",
        "colab_type": "text"
      },
      "source": [
        "<a href=\"https://colab.research.google.com/github/Manuelaio/course_MG/blob/main/Untitled0.ipynb\" target=\"_parent\"><img src=\"https://colab.research.google.com/assets/colab-badge.svg\" alt=\"Open In Colab\"/></a>"
      ]
    },
    {
      "cell_type": "code",
      "metadata": {
        "id": "QKIdyDdWcOty"
      },
      "source": [
        "\n",
        "import matplotlib.pyplot as plt\n",
        "import seaborn as sns\n",
        "sns.set_style(style='whitegrid')\n",
        "sns.set(font_scale=1.5);\n",
        "import pandas as pd\n",
        "import numpy as np\n",
        "from pandas import set_option\n",
        "\n"
      ],
      "execution_count": 10,
      "outputs": []
    },
    {
      "cell_type": "code",
      "metadata": {
        "id": "bmf3fyTQcPm-"
      },
      "source": [
        "\n",
        "manta=pd.read_csv(\"Manta_intersect_DGV_LR.bed\", sep=\"\\t\", header=None, names=[\"chrom\",\"start\", \"end\", \"svtype\",\"chrom_TS\", \"start_TS\", \"end_TS\", \"svtype_TS\", \"source\", \"length_TS\",\"intersect\"])"
      ],
      "execution_count": 7,
      "outputs": []
    },
    {
      "cell_type": "code",
      "metadata": {
        "colab": {
          "base_uri": "https://localhost:8080/",
          "height": 204
        },
        "id": "LAv68i3Q65OR",
        "outputId": "92e1b2e6-5fbe-4f68-99c1-657573ece5e9"
      },
      "source": [
        "manta.head()"
      ],
      "execution_count": 8,
      "outputs": [
        {
          "output_type": "execute_result",
          "data": {
            "text/html": [
              "<div>\n",
              "<style scoped>\n",
              "    .dataframe tbody tr th:only-of-type {\n",
              "        vertical-align: middle;\n",
              "    }\n",
              "\n",
              "    .dataframe tbody tr th {\n",
              "        vertical-align: top;\n",
              "    }\n",
              "\n",
              "    .dataframe thead th {\n",
              "        text-align: right;\n",
              "    }\n",
              "</style>\n",
              "<table border=\"1\" class=\"dataframe\">\n",
              "  <thead>\n",
              "    <tr style=\"text-align: right;\">\n",
              "      <th></th>\n",
              "      <th>chrom</th>\n",
              "      <th>start</th>\n",
              "      <th>end</th>\n",
              "      <th>svtype</th>\n",
              "      <th>chrom_TS</th>\n",
              "      <th>start_TS</th>\n",
              "      <th>end_TS</th>\n",
              "      <th>svtype_TS</th>\n",
              "      <th>source</th>\n",
              "      <th>length_TS</th>\n",
              "      <th>intersect</th>\n",
              "    </tr>\n",
              "  </thead>\n",
              "  <tbody>\n",
              "    <tr>\n",
              "      <th>0</th>\n",
              "      <td>chr1</td>\n",
              "      <td>839442</td>\n",
              "      <td>839499</td>\n",
              "      <td>DEL</td>\n",
              "      <td>chr1</td>\n",
              "      <td>837019</td>\n",
              "      <td>857280</td>\n",
              "      <td>INS</td>\n",
              "      <td>DGV</td>\n",
              "      <td>20261</td>\n",
              "      <td>57</td>\n",
              "    </tr>\n",
              "    <tr>\n",
              "      <th>1</th>\n",
              "      <td>chr1</td>\n",
              "      <td>934064</td>\n",
              "      <td>934904</td>\n",
              "      <td>DEL</td>\n",
              "      <td>chr1</td>\n",
              "      <td>933981</td>\n",
              "      <td>934728</td>\n",
              "      <td>DEL</td>\n",
              "      <td>LONG_READ</td>\n",
              "      <td>747</td>\n",
              "      <td>664</td>\n",
              "    </tr>\n",
              "    <tr>\n",
              "      <th>2</th>\n",
              "      <td>chr1</td>\n",
              "      <td>934064</td>\n",
              "      <td>934904</td>\n",
              "      <td>DEL</td>\n",
              "      <td>chr1</td>\n",
              "      <td>882968</td>\n",
              "      <td>5666143</td>\n",
              "      <td>DEL</td>\n",
              "      <td>LONG_READ</td>\n",
              "      <td>4783175</td>\n",
              "      <td>840</td>\n",
              "    </tr>\n",
              "    <tr>\n",
              "      <th>3</th>\n",
              "      <td>chr1</td>\n",
              "      <td>1666974</td>\n",
              "      <td>1667141</td>\n",
              "      <td>DEL</td>\n",
              "      <td>chr1</td>\n",
              "      <td>1666983</td>\n",
              "      <td>1667152</td>\n",
              "      <td>DEL</td>\n",
              "      <td>LONG_READ,SVCLASSIFY</td>\n",
              "      <td>169</td>\n",
              "      <td>158</td>\n",
              "    </tr>\n",
              "    <tr>\n",
              "      <th>4</th>\n",
              "      <td>chr1</td>\n",
              "      <td>1666974</td>\n",
              "      <td>1667141</td>\n",
              "      <td>DEL</td>\n",
              "      <td>chr1</td>\n",
              "      <td>1653303</td>\n",
              "      <td>1716238</td>\n",
              "      <td>DEL</td>\n",
              "      <td>LONG_READ</td>\n",
              "      <td>62935</td>\n",
              "      <td>167</td>\n",
              "    </tr>\n",
              "  </tbody>\n",
              "</table>\n",
              "</div>"
            ],
            "text/plain": [
              "  chrom    start      end  ...                source length_TS  intersect\n",
              "0  chr1   839442   839499  ...                   DGV     20261         57\n",
              "1  chr1   934064   934904  ...             LONG_READ       747        664\n",
              "2  chr1   934064   934904  ...             LONG_READ   4783175        840\n",
              "3  chr1  1666974  1667141  ...  LONG_READ,SVCLASSIFY       169        158\n",
              "4  chr1  1666974  1667141  ...             LONG_READ     62935        167\n",
              "\n",
              "[5 rows x 11 columns]"
            ]
          },
          "metadata": {
            "tags": []
          },
          "execution_count": 8
        }
      ]
    },
    {
      "cell_type": "code",
      "metadata": {
        "colab": {
          "base_uri": "https://localhost:8080/",
          "height": 366
        },
        "id": "T27UD6it7flg",
        "outputId": "c2636403-5116-47c5-9bd4-0df83c87d230"
      },
      "source": [
        "print(manta.groupby(\"svtype\").size())\n",
        "ax = sns.countplot(x=\"svtype\", data=manta, palette=\"magma\")\n",
        "ax.set(xlabel='svtype', ylabel='Number of Variants');\n",
        "plt.show()"
      ],
      "execution_count": 11,
      "outputs": [
        {
          "output_type": "stream",
          "text": [
            "svtype\n",
            "DEL    4426\n",
            "DUP     703\n",
            "dtype: int64\n"
          ],
          "name": "stdout"
        },
        {
          "output_type": "display_data",
          "data": {
            "image/png": "[encoded data removed]",
            "text/plain": [
              "<Figure size 432x288 with 1 Axes>"
            ]
          },
          "metadata": {
            "tags": []
          }
        }
      ]
    },
    {
      "cell_type": "code",
      "metadata": {
        "colab": {
          "base_uri": "https://localhost:8080/"
        },
        "id": "8qu63w8R9qpm",
        "outputId": "44ca779e-7ce8-4abb-c478-18600885d277"
      },
      "source": [
        "#manta[\"overlapp\"]=manta.loc[(manta['svtype'] == \"DEL\") & (df_call['type_caller'] == \"DUP\") & (df_calls['overlap'] >= 0.5)]\n",
        "manta.loc[manta['intersect']!=0,\"overlapp\"]=\"TRUE_POSITIVE\"\n",
        "manta.loc[manta['intersect']==0,\"overlapp\"]=\"FALSE_POSITIVE\"\n",
        "\n",
        "print(manta.groupby(\"overlapp\").size())\n"
      ],
      "execution_count": 15,
      "outputs": [
        {
          "output_type": "stream",
          "text": [
            "overlapp\n",
            "FALSE_POSITIVE     986\n",
            "TRUE_POSITIVE     4143\n",
            "dtype: int64\n"
          ],
          "name": "stdout"
        }
      ]
    },
    {
      "cell_type": "code",
      "metadata": {
        "colab": {
          "base_uri": "https://localhost:8080/",
          "height": 315
        },
        "id": "J_fSUoAU_z1v",
        "outputId": "0c0d8b0a-a35c-4dc4-b781-45ab7e0caf1d"
      },
      "source": [
        "manta_df = pd.crosstab(manta.svtype,manta.overlapp, margins=True)\n",
        "manta_df.drop('All', axis=0, inplace=True)\n",
        "\n",
        "manta_df = manta_df.sort_values(by='All', ascending=False)\n",
        "manta_df.drop('All', axis=1, inplace=True)\n",
        "manta_df.plot.bar(stacked=True, figsize=(12, 4),\n",
        "color=['rebeccapurple','lightcoral']);\n",
        "plt.show()"
      ],
      "execution_count": 17,
      "outputs": [
        {
          "output_type": "display_data",
          "data": {
            "image/png": "[encoded data removed]",
            "text/plain": [
              "<Figure size 864x288 with 1 Axes>"
            ]
          },
          "metadata": {
            "tags": []
          }
        }
      ]
    },
    {
      "cell_type": "code",
      "metadata": {
        "colab": {
          "base_uri": "https://localhost:8080/",
          "height": 204
        },
        "id": "ZfXp9WNz_-FL",
        "outputId": "5e2bcdce-0244-4714-860c-6a392643f9a1"
      },
      "source": [
        "manta[\"manta_length\"]=manta[\"end\"]-manta[\"start\"]\n",
        "manta.head()"
      ],
      "execution_count": 18,
      "outputs": [
        {
          "output_type": "execute_result",
          "data": {
            "text/html": [
              "<div>\n",
              "<style scoped>\n",
              "    .dataframe tbody tr th:only-of-type {\n",
              "        vertical-align: middle;\n",
              "    }\n",
              "\n",
              "    .dataframe tbody tr th {\n",
              "        vertical-align: top;\n",
              "    }\n",
              "\n",
              "    .dataframe thead th {\n",
              "        text-align: right;\n",
              "    }\n",
              "</style>\n",
              "<table border=\"1\" class=\"dataframe\">\n",
              "  <thead>\n",
              "    <tr style=\"text-align: right;\">\n",
              "      <th></th>\n",
              "      <th>chrom</th>\n",
              "      <th>start</th>\n",
              "      <th>end</th>\n",
              "      <th>svtype</th>\n",
              "      <th>chrom_TS</th>\n",
              "      <th>start_TS</th>\n",
              "      <th>end_TS</th>\n",
              "      <th>svtype_TS</th>\n",
              "      <th>source</th>\n",
              "      <th>length_TS</th>\n",
              "      <th>intersect</th>\n",
              "      <th>overlapp</th>\n",
              "      <th>manta_length</th>\n",
              "    </tr>\n",
              "  </thead>\n",
              "  <tbody>\n",
              "    <tr>\n",
              "      <th>0</th>\n",
              "      <td>chr1</td>\n",
              "      <td>839442</td>\n",
              "      <td>839499</td>\n",
              "      <td>DEL</td>\n",
              "      <td>chr1</td>\n",
              "      <td>837019</td>\n",
              "      <td>857280</td>\n",
              "      <td>INS</td>\n",
              "      <td>DGV</td>\n",
              "      <td>20261</td>\n",
              "      <td>57</td>\n",
              "      <td>TRUE_POSITIVE</td>\n",
              "      <td>57</td>\n",
              "    </tr>\n",
              "    <tr>\n",
              "      <th>1</th>\n",
              "      <td>chr1</td>\n",
              "      <td>934064</td>\n",
              "      <td>934904</td>\n",
              "      <td>DEL</td>\n",
              "      <td>chr1</td>\n",
              "      <td>933981</td>\n",
              "      <td>934728</td>\n",
              "      <td>DEL</td>\n",
              "      <td>LONG_READ</td>\n",
              "      <td>747</td>\n",
              "      <td>664</td>\n",
              "      <td>TRUE_POSITIVE</td>\n",
              "      <td>840</td>\n",
              "    </tr>\n",
              "    <tr>\n",
              "      <th>2</th>\n",
              "      <td>chr1</td>\n",
              "      <td>934064</td>\n",
              "      <td>934904</td>\n",
              "      <td>DEL</td>\n",
              "      <td>chr1</td>\n",
              "      <td>882968</td>\n",
              "      <td>5666143</td>\n",
              "      <td>DEL</td>\n",
              "      <td>LONG_READ</td>\n",
              "      <td>4783175</td>\n",
              "      <td>840</td>\n",
              "      <td>TRUE_POSITIVE</td>\n",
              "      <td>840</td>\n",
              "    </tr>\n",
              "    <tr>\n",
              "      <th>3</th>\n",
              "      <td>chr1</td>\n",
              "      <td>1666974</td>\n",
              "      <td>1667141</td>\n",
              "      <td>DEL</td>\n",
              "      <td>chr1</td>\n",
              "      <td>1666983</td>\n",
              "      <td>1667152</td>\n",
              "      <td>DEL</td>\n",
              "      <td>LONG_READ,SVCLASSIFY</td>\n",
              "      <td>169</td>\n",
              "      <td>158</td>\n",
              "      <td>TRUE_POSITIVE</td>\n",
              "      <td>167</td>\n",
              "    </tr>\n",
              "    <tr>\n",
              "      <th>4</th>\n",
              "      <td>chr1</td>\n",
              "      <td>1666974</td>\n",
              "      <td>1667141</td>\n",
              "      <td>DEL</td>\n",
              "      <td>chr1</td>\n",
              "      <td>1653303</td>\n",
              "      <td>1716238</td>\n",
              "      <td>DEL</td>\n",
              "      <td>LONG_READ</td>\n",
              "      <td>62935</td>\n",
              "      <td>167</td>\n",
              "      <td>TRUE_POSITIVE</td>\n",
              "      <td>167</td>\n",
              "    </tr>\n",
              "  </tbody>\n",
              "</table>\n",
              "</div>"
            ],
            "text/plain": [
              "  chrom    start      end  ... intersect       overlapp  manta_length\n",
              "0  chr1   839442   839499  ...        57  TRUE_POSITIVE            57\n",
              "1  chr1   934064   934904  ...       664  TRUE_POSITIVE           840\n",
              "2  chr1   934064   934904  ...       840  TRUE_POSITIVE           840\n",
              "3  chr1  1666974  1667141  ...       158  TRUE_POSITIVE           167\n",
              "4  chr1  1666974  1667141  ...       167  TRUE_POSITIVE           167\n",
              "\n",
              "[5 rows x 13 columns]"
            ]
          },
          "metadata": {
            "tags": []
          },
          "execution_count": 18
        }
      ]
    },
    {
      "cell_type": "code",
      "metadata": {
        "colab": {
          "base_uri": "https://localhost:8080/",
          "height": 880
        },
        "id": "U-EivIR6E9X-",
        "outputId": "3be77867-4c7a-4368-817f-4d1ff58a08ea"
      },
      "source": [
        "dens=sns.displot(manta,  x=\"manta_length\",hue=\"svtype\", kind=\"hist\", height=15.5, aspect=25.7/15.5)\n",
        "dens.set(xlim=(0,10000))\n"
      ],
      "execution_count": 36,
      "outputs": [
        {
          "output_type": "execute_result",
          "data": {
            "text/plain": [
              "<seaborn.axisgrid.FacetGrid at 0x7ff3fc9b3590>"
            ]
          },
          "metadata": {
            "tags": []
          },
          "execution_count": 36
        },
        {
          "output_type": "display_data",
          "data": {
            "image/png": "[encoded data removed]",
            "text/plain": [
              "<Figure size 1944.55x1116 with 1 Axes>"
            ]
          },
          "metadata": {
            "tags": []
          }
        }
      ]
    },
    {
      "cell_type": "code",
      "metadata": {
        "colab": {
          "base_uri": "https://localhost:8080/"
        },
        "id": "09RXuE7dFxVi",
        "outputId": "4483faff-c713-47e1-b153-bcfcf664938a"
      },
      "source": [
        "manta.manta_length.min()"
      ],
      "execution_count": 24,
      "outputs": [
        {
          "output_type": "execute_result",
          "data": {
            "text/plain": [
              "50"
            ]
          },
          "metadata": {
            "tags": []
          },
          "execution_count": 24
        }
      ]
    }
  ]
}